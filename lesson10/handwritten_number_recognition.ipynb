{
 "cells": [
  {
   "cell_type": "markdown",
   "metadata": {
    "id": "VUWDkaSXxzuX"
   },
   "source": [
    "# Fully connected Deep neural network for handwritten digits recognition"
   ]
  },
  {
   "cell_type": "markdown",
   "metadata": {
    "id": "vTXtkoOnxoNJ"
   },
   "source": [
    "## Import libraries"
   ]
  },
  {
   "cell_type": "code",
   "execution_count": 1,
   "metadata": {
    "id": "e8tbfbC9wqYW"
   },
   "outputs": [
    {
     "name": "stderr",
     "output_type": "stream",
     "text": [
      "2024-08-21 11:49:09.255599: I tensorflow/core/platform/cpu_feature_guard.cc:182] This TensorFlow binary is optimized to use available CPU instructions in performance-critical operations.\n",
      "To enable the following instructions: AVX2 FMA, in other operations, rebuild TensorFlow with the appropriate compiler flags.\n"
     ]
    }
   ],
   "source": [
    "from keras.datasets import mnist\n",
    "import numpy as np\n",
    "from keras.models import Sequential\n",
    "from keras.layers import Dense\n",
    "from keras.optimizers import SGD\n",
    "import matplotlib.pyplot as plt\n",
    "from keras.utils import to_categorical\n",
    "import tensorflow as tf"
   ]
  },
  {
   "cell_type": "markdown",
   "metadata": {
    "id": "5ZslxoZ7xuaH"
   },
   "source": [
    "## Get mnist dataset"
   ]
  },
  {
   "cell_type": "code",
   "execution_count": 2,
   "metadata": {
    "id": "thKKrpNqxdOy"
   },
   "outputs": [
    {
     "name": "stdout",
     "output_type": "stream",
     "text": [
      "Downloading data from https://storage.googleapis.com/tensorflow/tf-keras-datasets/mnist.npz\n",
      "11490434/11490434 [==============================] - 4s 0us/step\n"
     ]
    }
   ],
   "source": [
    "(X_train, Y_train), (X_test, Y_test) = mnist.load_data()"
   ]
  },
  {
   "cell_type": "markdown",
   "metadata": {
    "id": "g2V74r_Yy4nf"
   },
   "source": [
    "## Print the shapes of the dataset"
   ]
  },
  {
   "cell_type": "code",
   "execution_count": 3,
   "metadata": {
    "colab": {
     "base_uri": "https://localhost:8080/"
    },
    "id": "-5YFuBO5yr17",
    "outputId": "fc1f9a39-effa-4383-d317-f6d1c6cb025d"
   },
   "outputs": [
    {
     "name": "stdout",
     "output_type": "stream",
     "text": [
      "X_train shape: (60000, 28, 28)\n",
      "Y_train shape: (60000,)\n",
      "X_test shape: (10000, 28, 28)\n",
      "Y_test shape: (10000,)\n"
     ]
    }
   ],
   "source": [
    "print(\"X_train shape:\", X_train.shape)\n",
    "print(\"Y_train shape:\", Y_train.shape)\n",
    "print(\"X_test shape:\", X_test.shape)\n",
    "print(\"Y_test shape:\", Y_test.shape)"
   ]
  },
  {
   "cell_type": "markdown",
   "metadata": {
    "id": "f2e4xFkIyIf7"
   },
   "source": [
    "## Try show the first image in the X_train 3D array"
   ]
  },
  {
   "cell_type": "code",
   "execution_count": 4,
   "metadata": {
    "colab": {
     "base_uri": "https://localhost:8080/",
     "height": 430
    },
    "id": "LziI3QMWxnbg",
    "outputId": "f792578b-2b36-46c6-e7d3-698883a4ac53"
   },
   "outputs": [
    {
     "data": {
      "image/png": "[encoded data removed]",
      "text/plain": [
       "<Figure size 640x480 with 1 Axes>"
      ]
     },
     "metadata": {},
     "output_type": "display_data"
    }
   ],
   "source": [
    "plt.imshow(X_train[0], cmap=\"gray\")\n",
    "plt.show()"
   ]
  },
  {
   "cell_type": "markdown",
   "metadata": {
    "id": "iyXFnTEgzHc7"
   },
   "source": [
    "## Reshape the images from 2D to 1D and scale between 0 to 1"
   ]
  },
  {
   "cell_type": "code",
   "execution_count": 5,
   "metadata": {
    "id": "XJxLBr2kzSc-"
   },
   "outputs": [],
   "source": [
    "X_train = X_train.reshape(X_train.shape[0], 784) / 255.0\n",
    "X_test = X_test.reshape(X_test.shape[0], 784) / 255.0"
   ]
  },
  {
   "cell_type": "markdown",
   "metadata": {
    "id": "CY2xfCFI0GdE"
   },
   "source": [
    "## Make the labels into categorical or one-hot with 10 possible situations"
   ]
  },
  {
   "cell_type": "code",
   "execution_count": 6,
   "metadata": {
    "id": "bNvtA8360XWI"
   },
   "outputs": [],
   "source": [
    "Y_train = to_categorical(Y_train, 10)\n",
    "Y_test = to_categorical(Y_test, 10)"
   ]
  },
  {
   "cell_type": "markdown",
   "metadata": {
    "id": "22yB_fAi0m34"
   },
   "source": [
    "## Init model"
   ]
  },
  {
   "cell_type": "code",
   "execution_count": 7,
   "metadata": {
    "id": "BFLicTOl0vdX"
   },
   "outputs": [
    {
     "name": "stderr",
     "output_type": "stream",
     "text": [
      "2024-08-21 11:49:17.941411: I tensorflow/compiler/xla/stream_executor/cuda/cuda_gpu_executor.cc:996] successful NUMA node read from SysFS had negative value (-1), but there must be at least one NUMA node, so returning NUMA node zero. See more at https://github.com/torvalds/linux/blob/v6.0/Documentation/ABI/testing/sysfs-bus-pci#L344-L355\n",
      "2024-08-21 11:49:17.967531: I tensorflow/compiler/xla/stream_executor/cuda/cuda_gpu_executor.cc:996] successful NUMA node read from SysFS had negative value (-1), but there must be at least one NUMA node, so returning NUMA node zero. See more at https://github.com/torvalds/linux/blob/v6.0/Documentation/ABI/testing/sysfs-bus-pci#L344-L355\n",
      "2024-08-21 11:49:17.968166: I tensorflow/compiler/xla/stream_executor/cuda/cuda_gpu_executor.cc:996] successful NUMA node read from SysFS had negative value (-1), but there must be at least one NUMA node, so returning NUMA node zero. See more at https://github.com/torvalds/linux/blob/v6.0/Documentation/ABI/testing/sysfs-bus-pci#L344-L355\n",
      "2024-08-21 11:49:17.969077: I tensorflow/compiler/xla/stream_executor/cuda/cuda_gpu_executor.cc:996] successful NUMA node read from SysFS had negative value (-1), but there must be at least one NUMA node, so returning NUMA node zero. See more at https://github.com/torvalds/linux/blob/v6.0/Documentation/ABI/testing/sysfs-bus-pci#L344-L355\n",
      "2024-08-21 11:49:17.969330: I tensorflow/compiler/xla/stream_executor/cuda/cuda_gpu_executor.cc:996] successful NUMA node read from SysFS had negative value (-1), but there must be at least one NUMA node, so returning NUMA node zero. See more at https://github.com/torvalds/linux/blob/v6.0/Documentation/ABI/testing/sysfs-bus-pci#L344-L355\n",
      "2024-08-21 11:49:17.969517: I tensorflow/compiler/xla/stream_executor/cuda/cuda_gpu_executor.cc:996] successful NUMA node read from SysFS had negative value (-1), but there must be at least one NUMA node, so returning NUMA node zero. See more at https://github.com/torvalds/linux/blob/v6.0/Documentation/ABI/testing/sysfs-bus-pci#L344-L355\n",
      "2024-08-21 11:49:18.035438: I tensorflow/compiler/xla/stream_executor/cuda/cuda_gpu_executor.cc:996] successful NUMA node read from SysFS had negative value (-1), but there must be at least one NUMA node, so returning NUMA node zero. See more at https://github.com/torvalds/linux/blob/v6.0/Documentation/ABI/testing/sysfs-bus-pci#L344-L355\n",
      "2024-08-21 11:49:18.035719: I tensorflow/compiler/xla/stream_executor/cuda/cuda_gpu_executor.cc:996] successful NUMA node read from SysFS had negative value (-1), but there must be at least one NUMA node, so returning NUMA node zero. See more at https://github.com/torvalds/linux/blob/v6.0/Documentation/ABI/testing/sysfs-bus-pci#L344-L355\n",
      "2024-08-21 11:49:18.035924: I tensorflow/compiler/xla/stream_executor/cuda/cuda_gpu_executor.cc:996] successful NUMA node read from SysFS had negative value (-1), but there must be at least one NUMA node, so returning NUMA node zero. See more at https://github.com/torvalds/linux/blob/v6.0/Documentation/ABI/testing/sysfs-bus-pci#L344-L355\n",
      "2024-08-21 11:49:18.036108: I tensorflow/core/common_runtime/gpu/gpu_device.cc:1635] Created device /job:localhost/replica:0/task:0/device:GPU:0 with 1744 MB memory:  -> device: 0, name: NVIDIA GeForce 940MX, pci bus id: 0000:01:00.0, compute capability: 5.0\n"
     ]
    }
   ],
   "source": [
    "model = Sequential()"
   ]
  },
  {
   "cell_type": "markdown",
   "metadata": {
    "id": "sCmgxysp1Hup"
   },
   "source": [
    "## Add hidden layers"
   ]
  },
  {
   "cell_type": "code",
   "execution_count": 8,
   "metadata": {
    "colab": {
     "base_uri": "https://localhost:8080/"
    },
    "id": "qvyQGctV1JvH",
    "outputId": "33cdf94d-c9ca-4cf4-b5b0-6a0ccae30bdb"
   },
   "outputs": [],
   "source": [
    "model.add(Dense(units=256, activation=\"relu\", input_dim=784))\n",
    "model.add(Dense(units=256, activation=\"relu\"))\n",
    "model.add(Dense(units=256, activation=\"relu\"))"
   ]
  },
  {
   "cell_type": "markdown",
   "metadata": {
    "id": "zKTErCfF1dxG"
   },
   "source": [
    "## Add the output layer"
   ]
  },
  {
   "cell_type": "code",
   "execution_count": 9,
   "metadata": {
    "id": "8jrvMQv92BJy"
   },
   "outputs": [],
   "source": [
    "model.add(Dense(units=10, activation=\"softmax\"))"
   ]
  },
  {
   "cell_type": "markdown",
   "metadata": {
    "id": "KJgEy0xG2FKY"
   },
   "source": [
    "## Compile the model"
   ]
  },
  {
   "cell_type": "code",
   "execution_count": 10,
   "metadata": {
    "id": "pvzvgEBY2Lp3"
   },
   "outputs": [],
   "source": [
    "model.compile(loss='categorical_crossentropy', optimizer='sgd', metrics=['accuracy'])"
   ]
  },
  {
   "cell_type": "markdown",
   "metadata": {
    "id": "6LsKb85F2Wfl"
   },
   "source": [
    "## Train the model"
   ]
  },
  {
   "cell_type": "code",
   "execution_count": 11,
   "metadata": {
    "colab": {
     "base_uri": "https://localhost:8080/"
    },
    "id": "l_jaggSy2YQq",
    "outputId": "5916d738-7634-40e2-cf2b-bfd494fca00e"
   },
   "outputs": [
    {
     "name": "stderr",
     "output_type": "stream",
     "text": [
      "2024-08-21 11:49:18.800442: W tensorflow/tsl/framework/cpu_allocator_impl.cc:83] Allocation of 188160000 exceeds 10% of free system memory.\n",
      "2024-08-21 11:49:19.109190: W tensorflow/tsl/framework/cpu_allocator_impl.cc:83] Allocation of 188160000 exceeds 10% of free system memory.\n"
     ]
    },
    {
     "name": "stdout",
     "output_type": "stream",
     "text": [
      "Epoch 1/100\n"
     ]
    },
    {
     "name": "stderr",
     "output_type": "stream",
     "text": [
      "2024-08-21 11:49:20.195145: I tensorflow/compiler/xla/service/service.cc:169] XLA service 0x1af8bfc0 initialized for platform CUDA (this does not guarantee that XLA will be used). Devices:\n",
      "2024-08-21 11:49:20.195187: I tensorflow/compiler/xla/service/service.cc:177]   StreamExecutor device (0): NVIDIA GeForce 940MX, Compute Capability 5.0\n",
      "2024-08-21 11:49:20.304016: I tensorflow/compiler/xla/stream_executor/cuda/cuda_dnn.cc:424] Loaded cuDNN version 8600\n",
      "2024-08-21 11:49:20.604169: I ./tensorflow/compiler/jit/device_compiler.h:180] Compiled cluster using XLA!  This line is logged at most once for the lifetime of the process.\n"
     ]
    },
    {
     "name": "stdout",
     "output_type": "stream",
     "text": [
      "59/59 [==============================] - 2s 9ms/step - loss: 2.2419 - accuracy: 0.2247\n",
      "Epoch 2/100\n",
      "59/59 [==============================] - 1s 10ms/step - loss: 2.0474 - accuracy: 0.5136\n",
      "Epoch 3/100\n",
      "59/59 [==============================] - 1s 9ms/step - loss: 1.7626 - accuracy: 0.6710\n",
      "Epoch 4/100\n",
      "59/59 [==============================] - 1s 10ms/step - loss: 1.3879 - accuracy: 0.7400\n",
      "Epoch 5/100\n",
      "59/59 [==============================] - 1s 10ms/step - loss: 1.0481 - accuracy: 0.7842\n",
      "Epoch 6/100\n",
      "59/59 [==============================] - 1s 9ms/step - loss: 0.8231 - accuracy: 0.8137\n",
      "Epoch 7/100\n",
      "59/59 [==============================] - 1s 9ms/step - loss: 0.6869 - accuracy: 0.8342\n",
      "Epoch 8/100\n",
      "59/59 [==============================] - 1s 10ms/step - loss: 0.6006 - accuracy: 0.8483\n",
      "Epoch 9/100\n",
      "59/59 [==============================] - 1s 10ms/step - loss: 0.5417 - accuracy: 0.8595\n",
      "Epoch 10/100\n",
      "59/59 [==============================] - 1s 9ms/step - loss: 0.4993 - accuracy: 0.8679\n",
      "Epoch 11/100\n",
      "59/59 [==============================] - 1s 9ms/step - loss: 0.4671 - accuracy: 0.8753\n",
      "Epoch 12/100\n",
      "59/59 [==============================] - 1s 9ms/step - loss: 0.4417 - accuracy: 0.8810\n",
      "Epoch 13/100\n",
      "59/59 [==============================] - 1s 9ms/step - loss: 0.4213 - accuracy: 0.8851\n",
      "Epoch 14/100\n",
      "59/59 [==============================] - 1s 9ms/step - loss: 0.4043 - accuracy: 0.8891\n",
      "Epoch 15/100\n",
      "59/59 [==============================] - 1s 9ms/step - loss: 0.3898 - accuracy: 0.8924\n",
      "Epoch 16/100\n",
      "59/59 [==============================] - 1s 9ms/step - loss: 0.3775 - accuracy: 0.8947\n",
      "Epoch 17/100\n",
      "59/59 [==============================] - 1s 9ms/step - loss: 0.3666 - accuracy: 0.8971\n",
      "Epoch 18/100\n",
      "59/59 [==============================] - 1s 9ms/step - loss: 0.3570 - accuracy: 0.8993\n",
      "Epoch 19/100\n",
      "59/59 [==============================] - 1s 10ms/step - loss: 0.3483 - accuracy: 0.9013\n",
      "Epoch 20/100\n",
      "59/59 [==============================] - 1s 9ms/step - loss: 0.3408 - accuracy: 0.9036\n",
      "Epoch 21/100\n",
      "59/59 [==============================] - 1s 9ms/step - loss: 0.3339 - accuracy: 0.9052\n",
      "Epoch 22/100\n",
      "59/59 [==============================] - 1s 9ms/step - loss: 0.3275 - accuracy: 0.9067\n",
      "Epoch 23/100\n",
      "59/59 [==============================] - 1s 9ms/step - loss: 0.3217 - accuracy: 0.9082\n",
      "Epoch 24/100\n",
      "59/59 [==============================] - 1s 9ms/step - loss: 0.3160 - accuracy: 0.9098\n",
      "Epoch 25/100\n",
      "59/59 [==============================] - 1s 9ms/step - loss: 0.3109 - accuracy: 0.9111\n",
      "Epoch 26/100\n",
      "59/59 [==============================] - 1s 9ms/step - loss: 0.3062 - accuracy: 0.9121\n",
      "Epoch 27/100\n",
      "59/59 [==============================] - 1s 10ms/step - loss: 0.3016 - accuracy: 0.9136\n",
      "Epoch 28/100\n",
      "59/59 [==============================] - 1s 9ms/step - loss: 0.2974 - accuracy: 0.9144\n",
      "Epoch 29/100\n",
      "59/59 [==============================] - 1s 9ms/step - loss: 0.2933 - accuracy: 0.9157\n",
      "Epoch 30/100\n",
      "59/59 [==============================] - 1s 9ms/step - loss: 0.2896 - accuracy: 0.9168\n",
      "Epoch 31/100\n",
      "59/59 [==============================] - 1s 9ms/step - loss: 0.2860 - accuracy: 0.9178\n",
      "Epoch 32/100\n",
      "59/59 [==============================] - 1s 9ms/step - loss: 0.2824 - accuracy: 0.9189\n",
      "Epoch 33/100\n",
      "59/59 [==============================] - 1s 10ms/step - loss: 0.2791 - accuracy: 0.9199\n",
      "Epoch 34/100\n",
      "59/59 [==============================] - 1s 9ms/step - loss: 0.2758 - accuracy: 0.9213\n",
      "Epoch 35/100\n",
      "59/59 [==============================] - 1s 9ms/step - loss: 0.2726 - accuracy: 0.9219\n",
      "Epoch 36/100\n",
      "59/59 [==============================] - 1s 11ms/step - loss: 0.2697 - accuracy: 0.9225\n",
      "Epoch 37/100\n",
      "59/59 [==============================] - 1s 9ms/step - loss: 0.2667 - accuracy: 0.9238\n",
      "Epoch 38/100\n",
      "59/59 [==============================] - 1s 9ms/step - loss: 0.2639 - accuracy: 0.9244\n",
      "Epoch 39/100\n",
      "59/59 [==============================] - 1s 11ms/step - loss: 0.2612 - accuracy: 0.9254\n",
      "Epoch 40/100\n",
      "59/59 [==============================] - 1s 9ms/step - loss: 0.2585 - accuracy: 0.9260\n",
      "Epoch 41/100\n",
      "59/59 [==============================] - 1s 9ms/step - loss: 0.2560 - accuracy: 0.9271\n",
      "Epoch 42/100\n",
      "59/59 [==============================] - 1s 9ms/step - loss: 0.2534 - accuracy: 0.9280\n",
      "Epoch 43/100\n",
      "59/59 [==============================] - 1s 9ms/step - loss: 0.2509 - accuracy: 0.9286\n",
      "Epoch 44/100\n",
      "59/59 [==============================] - 1s 9ms/step - loss: 0.2485 - accuracy: 0.9293\n",
      "Epoch 45/100\n",
      "59/59 [==============================] - 1s 10ms/step - loss: 0.2463 - accuracy: 0.9298\n",
      "Epoch 46/100\n",
      "59/59 [==============================] - 1s 10ms/step - loss: 0.2440 - accuracy: 0.9304\n",
      "Epoch 47/100\n",
      "59/59 [==============================] - 1s 13ms/step - loss: 0.2418 - accuracy: 0.9312\n",
      "Epoch 48/100\n",
      "59/59 [==============================] - 1s 12ms/step - loss: 0.2396 - accuracy: 0.9317\n",
      "Epoch 49/100\n",
      "59/59 [==============================] - 1s 12ms/step - loss: 0.2375 - accuracy: 0.9324\n",
      "Epoch 50/100\n",
      "59/59 [==============================] - 1s 12ms/step - loss: 0.2354 - accuracy: 0.9332\n",
      "Epoch 51/100\n",
      "59/59 [==============================] - 1s 10ms/step - loss: 0.2334 - accuracy: 0.9333\n",
      "Epoch 52/100\n",
      "59/59 [==============================] - 1s 12ms/step - loss: 0.2312 - accuracy: 0.9342\n",
      "Epoch 53/100\n",
      "59/59 [==============================] - 1s 12ms/step - loss: 0.2294 - accuracy: 0.9345\n",
      "Epoch 54/100\n",
      "59/59 [==============================] - 1s 12ms/step - loss: 0.2274 - accuracy: 0.9354\n",
      "Epoch 55/100\n",
      "59/59 [==============================] - 1s 12ms/step - loss: 0.2256 - accuracy: 0.9357\n",
      "Epoch 56/100\n",
      "59/59 [==============================] - 1s 11ms/step - loss: 0.2237 - accuracy: 0.9366\n",
      "Epoch 57/100\n",
      "59/59 [==============================] - 1s 12ms/step - loss: 0.2218 - accuracy: 0.9366\n",
      "Epoch 58/100\n",
      "59/59 [==============================] - 1s 11ms/step - loss: 0.2201 - accuracy: 0.9370\n",
      "Epoch 59/100\n",
      "59/59 [==============================] - 1s 12ms/step - loss: 0.2184 - accuracy: 0.9376\n",
      "Epoch 60/100\n",
      "59/59 [==============================] - 1s 12ms/step - loss: 0.2166 - accuracy: 0.9380\n",
      "Epoch 61/100\n",
      "59/59 [==============================] - 1s 12ms/step - loss: 0.2148 - accuracy: 0.9389\n",
      "Epoch 62/100\n",
      "59/59 [==============================] - 1s 11ms/step - loss: 0.2133 - accuracy: 0.9393\n",
      "Epoch 63/100\n",
      "59/59 [==============================] - 1s 11ms/step - loss: 0.2116 - accuracy: 0.9398\n",
      "Epoch 64/100\n",
      "59/59 [==============================] - 1s 11ms/step - loss: 0.2100 - accuracy: 0.9402\n",
      "Epoch 65/100\n",
      "59/59 [==============================] - 1s 11ms/step - loss: 0.2085 - accuracy: 0.9408\n",
      "Epoch 66/100\n",
      "59/59 [==============================] - 1s 11ms/step - loss: 0.2070 - accuracy: 0.9413\n",
      "Epoch 67/100\n",
      "59/59 [==============================] - 1s 11ms/step - loss: 0.2053 - accuracy: 0.9417\n",
      "Epoch 68/100\n",
      "59/59 [==============================] - 1s 11ms/step - loss: 0.2040 - accuracy: 0.9423\n",
      "Epoch 69/100\n",
      "59/59 [==============================] - 1s 11ms/step - loss: 0.2024 - accuracy: 0.9428\n",
      "Epoch 70/100\n",
      "59/59 [==============================] - 1s 12ms/step - loss: 0.2011 - accuracy: 0.9435\n",
      "Epoch 71/100\n",
      "59/59 [==============================] - 1s 11ms/step - loss: 0.1996 - accuracy: 0.9435\n",
      "Epoch 72/100\n",
      "59/59 [==============================] - 1s 10ms/step - loss: 0.1981 - accuracy: 0.9438\n",
      "Epoch 73/100\n",
      "59/59 [==============================] - 1s 11ms/step - loss: 0.1968 - accuracy: 0.9441\n",
      "Epoch 74/100\n",
      "59/59 [==============================] - 1s 11ms/step - loss: 0.1953 - accuracy: 0.9449\n",
      "Epoch 75/100\n",
      "59/59 [==============================] - 1s 11ms/step - loss: 0.1940 - accuracy: 0.9452\n",
      "Epoch 76/100\n",
      "59/59 [==============================] - 1s 10ms/step - loss: 0.1926 - accuracy: 0.9455\n",
      "Epoch 77/100\n",
      "59/59 [==============================] - 1s 11ms/step - loss: 0.1913 - accuracy: 0.9457\n",
      "Epoch 78/100\n",
      "59/59 [==============================] - 1s 13ms/step - loss: 0.1900 - accuracy: 0.9462\n",
      "Epoch 79/100\n",
      "59/59 [==============================] - 1s 14ms/step - loss: 0.1888 - accuracy: 0.9465\n",
      "Epoch 80/100\n",
      "59/59 [==============================] - 1s 12ms/step - loss: 0.1875 - accuracy: 0.9467\n",
      "Epoch 81/100\n",
      "59/59 [==============================] - 1s 11ms/step - loss: 0.1862 - accuracy: 0.9475\n",
      "Epoch 82/100\n",
      "59/59 [==============================] - 1s 10ms/step - loss: 0.1850 - accuracy: 0.9476\n",
      "Epoch 83/100\n",
      "59/59 [==============================] - 1s 11ms/step - loss: 0.1839 - accuracy: 0.9481\n",
      "Epoch 84/100\n",
      "59/59 [==============================] - 1s 11ms/step - loss: 0.1824 - accuracy: 0.9484\n",
      "Epoch 85/100\n",
      "59/59 [==============================] - 1s 11ms/step - loss: 0.1814 - accuracy: 0.9487\n",
      "Epoch 86/100\n",
      "59/59 [==============================] - 1s 11ms/step - loss: 0.1802 - accuracy: 0.9489\n",
      "Epoch 87/100\n",
      "59/59 [==============================] - 1s 11ms/step - loss: 0.1790 - accuracy: 0.9493\n",
      "Epoch 88/100\n",
      "59/59 [==============================] - 1s 13ms/step - loss: 0.1779 - accuracy: 0.9495\n",
      "Epoch 89/100\n",
      "59/59 [==============================] - 1s 12ms/step - loss: 0.1767 - accuracy: 0.9499\n",
      "Epoch 90/100\n",
      "59/59 [==============================] - 1s 11ms/step - loss: 0.1756 - accuracy: 0.9504\n",
      "Epoch 91/100\n",
      "59/59 [==============================] - 1s 12ms/step - loss: 0.1744 - accuracy: 0.9507\n",
      "Epoch 92/100\n",
      "59/59 [==============================] - 1s 11ms/step - loss: 0.1734 - accuracy: 0.9507\n",
      "Epoch 93/100\n",
      "59/59 [==============================] - 1s 12ms/step - loss: 0.1724 - accuracy: 0.9513\n",
      "Epoch 94/100\n",
      "59/59 [==============================] - 1s 11ms/step - loss: 0.1712 - accuracy: 0.9516\n",
      "Epoch 95/100\n",
      "59/59 [==============================] - 1s 11ms/step - loss: 0.1703 - accuracy: 0.9520\n",
      "Epoch 96/100\n",
      "59/59 [==============================] - 1s 12ms/step - loss: 0.1691 - accuracy: 0.9522\n",
      "Epoch 97/100\n",
      "59/59 [==============================] - 1s 11ms/step - loss: 0.1680 - accuracy: 0.9523\n",
      "Epoch 98/100\n",
      "59/59 [==============================] - 1s 12ms/step - loss: 0.1672 - accuracy: 0.9528\n",
      "Epoch 99/100\n",
      "59/59 [==============================] - 1s 11ms/step - loss: 0.1662 - accuracy: 0.9528\n",
      "Epoch 100/100\n",
      "59/59 [==============================] - 1s 11ms/step - loss: 0.1650 - accuracy: 0.9532\n"
     ]
    }
   ],
   "source": [
    "with tf.device('/GPU:0'):\n",
    "\tmodel.fit(X_train, Y_train, epochs=100, batch_size=1024)"
   ]
  },
  {
   "cell_type": "markdown",
   "metadata": {
    "id": "Kok5Mfxw5WDt"
   },
   "source": [
    "## Evaluate the model"
   ]
  },
  {
   "cell_type": "code",
   "execution_count": 12,
   "metadata": {
    "colab": {
     "base_uri": "https://localhost:8080/"
    },
    "id": "UNp1MZvB5Xx9",
    "outputId": "42c4c635-a843-4c14-a7b6-f7f7dfc8352f"
   },
   "outputs": [
    {
     "name": "stdout",
     "output_type": "stream",
     "text": [
      "313/313 [==============================] - 2s 4ms/step - loss: 0.1682 - accuracy: 0.9513\n",
      "loss: 0.16819705069065094\n",
      "accuracy: 0.9513000249862671\n"
     ]
    }
   ],
   "source": [
    "loss, accuracy = model.evaluate(X_test, Y_test)\n",
    "print(\"loss:\", loss)\n",
    "print(\"accuracy:\", accuracy)"
   ]
  },
  {
   "cell_type": "markdown",
   "metadata": {
    "id": "N_afOsf360v-"
   },
   "source": [
    "## Manual testing"
   ]
  },
  {
   "cell_type": "code",
   "execution_count": 13,
   "metadata": {
    "colab": {
     "base_uri": "https://localhost:8080/",
     "height": 742
    },
    "id": "1bbCuuvz62Hx",
    "outputId": "3e470548-e36c-42f3-e405-c4009160ce32"
   },
   "outputs": [
    {
     "name": "stdout",
     "output_type": "stream",
     "text": [
      "1/1 [==============================] - 0s 197ms/step\n",
      "Prediction: [4], Correct: 4\n",
      "1/1 [==============================] - 0s 27ms/step\n",
      "Prediction: [7], Correct: 7\n",
      "1/1 [==============================] - 0s 28ms/step\n",
      "Prediction: [2], Correct: 2\n",
      "1/1 [==============================] - 0s 28ms/step\n",
      "Prediction: [5], Correct: 5\n",
      "1/1 [==============================] - 0s 25ms/step\n",
      "Prediction: [6], Correct: 6\n",
      "1/1 [==============================] - 0s 28ms/step\n",
      "Prediction: [3], Correct: 3\n",
      "1/1 [==============================] - 0s 28ms/step\n",
      "Prediction: [6], Correct: 6\n",
      "1/1 [==============================] - 0s 28ms/step\n",
      "Prediction: [9], Correct: 9\n",
      "1/1 [==============================] - 0s 28ms/step\n",
      "Prediction: [6], Correct: 6\n",
      "1/1 [==============================] - 0s 28ms/step\n",
      "Prediction: [3], Correct: 3\n"
     ]
    }
   ],
   "source": [
    "import random\n",
    "\n",
    "random_start = random.randint(0, 9990)\n",
    "for i in range(random_start, random_start + 10):\n",
    "  X_single = X_test[i].reshape(1, 784)\n",
    "  prediction = model.predict(X_single)\n",
    "\n",
    "  predicted_class = np.argmax(prediction, axis=1)\n",
    "  label = np.argmax(Y_test[i])\n",
    "  print(f\"Prediction: {predicted_class}, Correct: {label}\")\n",
    "\n",
    "  if predicted_class != label:\n",
    "    img = X_single.reshape(28, 28)\n",
    "    plt.imshow(img, cmap=\"gray\")\n",
    "    break"
   ]
  }
 ],
 "metadata": {
  "colab": {
   "provenance": [],
   "toc_visible": true
  },
  "kernelspec": {
   "display_name": "Python 3 (ipykernel)",
   "language": "python",
   "name": "python3"
  },
  "language_info": {
   "codemirror_mode": {
    "name": "ipython",
    "version": 3
   },
   "file_extension": ".py",
   "mimetype": "text/x-python",
   "name": "python",
   "nbconvert_exporter": "python",
   "pygments_lexer": "ipython3",
   "version": "3.8.10"
  }
 },
 "nbformat": 4,
 "nbformat_minor": 4
}
